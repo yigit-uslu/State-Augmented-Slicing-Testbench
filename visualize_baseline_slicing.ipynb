{
 "cells": [
  {
   "cell_type": "markdown",
   "metadata": {},
   "source": [
    "# VISUALIZE THE PROPORTIONAL, UNIFORM, AND EXTREME SLICING BASELINES\n",
    "We run several baselines to set feasible and meaningful constraints for the state-augmented-slicing algorithm."
   ]
  },
  {
   "cell_type": "code",
   "execution_count": 1,
   "metadata": {},
   "outputs": [],
   "source": [
    "import json\n",
    "import os\n",
    "import glob\n",
    "import torch\n",
    "import re\n",
    "import copy\n",
    "import random\n",
    "import tqdm\n",
    "from collections import defaultdict\n",
    "from matplotlib import pyplot as plt\n",
    "import seaborn as sns\n",
    "import time"
   ]
  },
  {
   "cell_type": "code",
   "execution_count": 2,
   "metadata": {},
   "outputs": [],
   "source": [
    "# Load one pre-trained model and experiment results\n",
    "save_path = 'visualization_baselines'\n",
    "# experiment_root_path = \"results/n_20_T_slices_{'train': 100, 'test': 500}_num_samples_{'train': 2, 'test': 1}/1700455656.290245 -- TEST VIOLATION RATES\"\n",
    "experiment_root_path = \"results/n_20_T_slices_{'train': 100, 'test': 500}_num_samples_{'train': 16, 'test': 4}/1700457654.2167933 -- TEST VIOLATION RATES\"\n",
    "\n",
    "save_path = f'{save_path}/{experiment_root_path}'\n",
    "\n",
    "experiment_name = re.search('results/(.+?)/', experiment_root_path).group(1)\n",
    "\n",
    "# Load train chkpt\n",
    "train_chkpt_root_path = f'{experiment_root_path}/train_chkpts/train_chkpt_'\n",
    "file_type = r'*.pt'\n",
    "files = glob.glob(train_chkpt_root_path + file_type)\n",
    "latest_train_chkpt_path = max(files, key=os.path.getctime)\n",
    "train_chkpt = torch.load(latest_train_chkpt_path)\n",
    "\n",
    "# Load model chkpt\n",
    "model_chkpt_root_path = f'{experiment_root_path}/train_chkpts/model_chkpt_'\n",
    "file_type = r'*.pt'\n",
    "files = glob.glob(model_chkpt_root_path + file_type)\n",
    "latest_model_chkpt_path = max(files, key=os.path.getctime)\n",
    "model_chkpt = torch.load(latest_model_chkpt_path)\n",
    "\n",
    "# Load all epoch results chkpt\n",
    "all_epoch_results_chkpt_root_path = f'{experiment_root_path}/train_chkpts/all_epoch_results_chkpt_'\n",
    "file_type = r'*.pt'\n",
    "files = glob.glob(all_epoch_results_chkpt_root_path + file_type)\n",
    "latest_all_epoch_results_chkpt_path = max(files, key=os.path.getctime)\n",
    "all_epoch_results_chkpt = torch.load(latest_all_epoch_results_chkpt_path)\n",
    "# with open(latest_all_epoch_results_chkpt_path, 'r') as outfile:\n",
    "#    all_epoch_results_chkpt = json.load(outfile)"
   ]
  },
  {
   "cell_type": "code",
   "execution_count": 3,
   "metadata": {},
   "outputs": [],
   "source": [
    "from core.model import MLP\n",
    "from core.Slice import Slice\n",
    "from core.data_gen import create_data\n",
    "from core.utils import make_test_configs, find_substring_index, seed_everything, make_experiment_name, create_network_configs,\\\n",
    "make_feature_extractor, make_constraint_fncs_and_lambda_samplers, make_eval_fnc, make_logger\n",
    "from core.StateAugmentation import StateAugmentedSlicingAlgorithm"
   ]
  },
  {
   "cell_type": "code",
   "execution_count": 4,
   "metadata": {},
   "outputs": [],
   "source": [
    "# How many more iterations do we want to run the pretrained model\n",
    "n_epochs_more = 1"
   ]
  },
  {
   "cell_type": "code",
   "execution_count": 5,
   "metadata": {},
   "outputs": [
    {
     "name": "stdout",
     "output_type": "stream",
     "text": [
      "Subpath:  \n",
      "Device:  cuda:0\n",
      "Model state dicts loaded...\n",
      "All epoch results loaded...\n",
      "The state-augmented model has been trained for 20 epochs.\n"
     ]
    }
   ],
   "source": [
    "args = copy.deepcopy(train_chkpt['config'])\n",
    "seed_everything(args.random_seed)\n",
    "\n",
    "# create a string indicating the main experiment (hyper)parameters\n",
    "experiment_name = make_experiment_name(args)\n",
    "args.save_dir = experiment_root_path\n",
    "\n",
    "args.channel_data_save_load_path = f'{args.root}/{args.save_dir}/channel_data'\n",
    "args.traffic_data_save_load_path = f'{args.root}/{args.save_dir}/traffic_data'\n",
    "    \n",
    "# Create more folders and save the parsed configuration\n",
    "os.makedirs(f'{save_path}', exist_ok=True)\n",
    "\n",
    "# os.makedirs(f'{args.root}/results/{args.save_dir}/plots', exist_ok=True)\n",
    "# os.makedirs(f'{args.root}/results/{args.save_dir}/train_chkpts', exist_ok=True)\n",
    "# os.makedirs(f'{args.channel_data_save_load_path}', exist_ok=True)\n",
    "# os.makedirs(f'{args.traffic_data_save_load_path}', exist_ok=True)\n",
    "# with open(f'{args.root}/results/{args.save_dir}/config.json', 'w') as f:\n",
    "#     json.dump(vars(args), f, indent = 6)\n",
    "\n",
    "# Create network configs to initialize wireless networks\n",
    "network_configs = create_network_configs(args)\n",
    "\n",
    "\n",
    "# Change the constraint specifications\n",
    "r_min_violation_rate = args.r_min_violation_rate # 0.05\n",
    "l_max_violation_rate = args.l_max_violation_rate # 0.05\n",
    "r_min = args.r_min\n",
    "l_max = args.l_max\n",
    "\n",
    "subpath = ''\n",
    "if not r_min_violation_rate == args.r_min_violation_rate:\n",
    "    subpath += f'_rate_violation_rate_{r_min_violation_rate}'\n",
    "if not l_max_violation_rate == args.l_max_violation_rate:\n",
    "    subpath += f'_latency_violation_rate_{l_max_violation_rate}'\n",
    "if not r_min == args.r_min:\n",
    "    subpath += f'_r_min_{r_min}'\n",
    "if not l_max == args.l_max:\n",
    "    subpath += f'_l_max_{l_max}'\n",
    "if not subpath == '':\n",
    "    subpath = '/' + subpath\n",
    "print('Subpath: ', subpath)\n",
    "\n",
    "args.r_min = r_min\n",
    "args.l_max = l_max\n",
    "args.r_min_violation_rate = r_min_violation_rate\n",
    "args.l_max_violation_rate = l_max_violation_rate\n",
    "\n",
    "\n",
    "# Create feature extractor, obj and constraint eval functions\n",
    "feature_extractor, n_features = make_feature_extractor(['slice-weight', 'slice-avg-data-rate'], args)\n",
    "obj = make_eval_fnc(eval_type = 'obj-mean-rate', eval_slices = [Slice.BE], args=args)\n",
    "\n",
    "constraints, lambda_samplers = make_constraint_fncs_and_lambda_samplers(args)\n",
    "\n",
    "args.num_features_list = [n_features + len(constraints)] + args.num_features_list[1:]\n",
    "\n",
    "# set the computation device and create the model using a GNN parameterization\n",
    "args.device = torch.device(args.device if torch.cuda.is_available() else 'cpu')\n",
    "print('Device: ', args.device)\n",
    "model = MLP(args.num_features_list, lambda_transform = args.lambda_transform, batch_norm = args.batch_norm).to(args.device)\n",
    "model.load_state_dict(model_chkpt['model_state_dict'])\n",
    "print('Model state dicts loaded...')\n",
    "\n",
    "# Log print statements to a logs.txt file\n",
    "loggers = [make_logger(f'{save_path}/logs.txt')]\n",
    "\n",
    "# Load all epoch results\n",
    "all_epoch_results = train_chkpt['all_epoch_results']\n",
    "print('All epoch results loaded...')\n",
    "print('The state-augmented model has been trained for {} epochs.'.format(len(all_epoch_results['train_state'])))\n",
    "\n",
    "sa_learner = StateAugmentedSlicingAlgorithm(model=model,\n",
    "                                            config=args,\n",
    "                                            network_configs=network_configs,\n",
    "                                            feature_extractor=feature_extractor,\n",
    "                                            loggers=loggers,\n",
    "                                            obj=obj,\n",
    "                                            constraints=constraints,\n",
    "                                            lambda_samplers = lambda_samplers,\n",
    "                                            all_epoch_results=all_epoch_results)"
   ]
  },
  {
   "cell_type": "markdown",
   "metadata": {},
   "source": [
    "## Run Test Phase"
   ]
  },
  {
   "cell_type": "code",
   "execution_count": 13,
   "metadata": {},
   "outputs": [],
   "source": [
    "# Make test configs\n",
    "test_configs = []  \n",
    "\n",
    "test_config = copy.deepcopy(args)\n",
    "test_config.name = 'mono-slicing-HT'\n",
    "test_config.slicing_strategy = 'mono-slicing-HT'\n",
    "# test_config.constraint_rate_violation_rate = constraint_rate_violation_rate\n",
    "test_configs.append(test_config)\n",
    "\n",
    "test_config = copy.deepcopy(args)\n",
    "test_config.name = 'mono-slicing-LL'\n",
    "test_config.slicing_strategy = 'mono-slicing-LL'\n",
    "# test_config.constraint_rate_violation_rate = constraint_rate_violation_rate\n",
    "test_configs.append(test_config)\n",
    "\n",
    "test_config = copy.deepcopy(args)\n",
    "test_config.name = 'proportional-slicing'\n",
    "test_config.slicing_strategy = 'proportional'\n",
    "# test_config.constraint_rate_violation_rate = constraint_rate_violation_rate\n",
    "# test_config.test_on_train_data = True\n",
    "# test_config.dual_test_init_strategy = 'zeros'\n",
    "test_configs.append(test_config)\n",
    "\n",
    "test_config = copy.deepcopy(args)\n",
    "test_config.name = 'uniform-slicing'\n",
    "test_config.slicing_strategy = 'uniform'\n",
    "# test_config.constraint_rate_violation_rate = constraint_rate_violation_rate\n",
    "test_configs.append(test_config)\n",
    "\n",
    "\n",
    "test_config = copy.deepcopy(args)\n",
    "test_config.name = 'state-augmented-slicing'\n",
    "test_config.slicing_strategy = 'state-augmented'\n",
    "# test_config.test_on_train_data = True\n",
    "test_config.dual_test_init_strategy = 'zeros'\n",
    "# test_config.constraint_rate_violation_rate = constraint_rate_violation_rate\n",
    "test_configs.append(test_config)"
   ]
  },
  {
   "cell_type": "code",
   "execution_count": 14,
   "metadata": {},
   "outputs": [
    {
     "name": "stdout",
     "output_type": "stream",
     "text": [
      "Testing sa_learner...\n",
      "Testing mono-slicing-HT\n"
     ]
    },
    {
     "name": "stderr",
     "output_type": "stream",
     "text": [
      "  0%|          | 0/500 [00:00<?, ?it/s]"
     ]
    },
    {
     "name": "stderr",
     "output_type": "stream",
     "text": [
      "100%|██████████| 500/500 [00:55<00:00,  8.98it/s]\n"
     ]
    },
    {
     "name": "stdout",
     "output_type": "stream",
     "text": [
      "Testing mono-slicing-LL\n"
     ]
    },
    {
     "name": "stderr",
     "output_type": "stream",
     "text": [
      "100%|██████████| 500/500 [00:57<00:00,  8.64it/s]\n"
     ]
    },
    {
     "name": "stdout",
     "output_type": "stream",
     "text": [
      "Testing proportional-slicing\n"
     ]
    },
    {
     "name": "stderr",
     "output_type": "stream",
     "text": [
      "100%|██████████| 500/500 [00:58<00:00,  8.51it/s]\n"
     ]
    },
    {
     "name": "stdout",
     "output_type": "stream",
     "text": [
      "Testing uniform-slicing\n"
     ]
    },
    {
     "name": "stderr",
     "output_type": "stream",
     "text": [
      "100%|██████████| 500/500 [00:59<00:00,  8.46it/s]\n"
     ]
    },
    {
     "name": "stdout",
     "output_type": "stream",
     "text": [
      "Testing state-augmented-slicing\n"
     ]
    },
    {
     "name": "stderr",
     "output_type": "stream",
     "text": [
      "100%|██████████| 500/500 [00:58<00:00,  8.57it/s]\n"
     ]
    }
   ],
   "source": [
    "print('Testing sa_learner...')\n",
    "test_metrics_list = []\n",
    "test_metrics_over_time_list = []\n",
    "for test_config in test_configs:\n",
    "    # if test_config.dual_test_init_strategy == 'mean-regression':\n",
    "    #     test_config.name = 'mean_init'\n",
    "    # if test_config.dual_test_init_strategy == 'optimal-regression':\n",
    "    #     test_config.name = 'optimal_init'\n",
    "    # if test_config.dual_test_init_strategy == 'zeros':\n",
    "    #     test_config.name = 'zeros_init'\n",
    "    print(f'Testing {test_config.name}')\n",
    "    try:\n",
    "        test_epoch = sa_learner.all_epoch_results['test_state', test_config.name][-1].epoch + 1\n",
    "    except:\n",
    "        test_epoch = len(sa_learner.all_epoch_results['train_state']) + 1\n",
    "    test_metrics = sa_learner.test(epoch=test_epoch, test_config=test_config) # test metric\n",
    "    test_metrics_list.append([test_metrics])\n",
    "    test_metrics_over_time_list.append(test_metrics.metrics_over_slices) # append test metrics over time"
   ]
  },
  {
   "cell_type": "markdown",
   "metadata": {},
   "source": [
    "## Plot test metrics"
   ]
  },
  {
   "cell_type": "code",
   "execution_count": 15,
   "metadata": {},
   "outputs": [
    {
     "name": "stdout",
     "output_type": "stream",
     "text": [
      "Plotting test evolution over epochs...\n",
      "Plotting test evolution over timesteps...\n"
     ]
    },
    {
     "data": {
      "text/plain": [
       "<Figure size 640x480 with 0 Axes>"
      ]
     },
     "metadata": {},
     "output_type": "display_data"
    }
   ],
   "source": [
    "print('Plotting test evolution over epochs...')\n",
    "sa_learner.plot_test_evolution_over_epochs(test_metrics_list,\n",
    "                                        test_config_names=[_.name for _ in test_configs],\n",
    "                                        save_path=save_path + subpath + '/plots/test_evolution/',\n",
    "                                        plot_actual_metrics = True)\n",
    "            \n",
    "k_networks = sa_learner.config.num_samples['test']\n",
    "print('Plotting test evolution over timesteps...')\n",
    "sa_learner.plot_test_evolution_over_slices(test_metrics_list,\n",
    "                                            test_config_names = [_.name for _ in test_configs],\n",
    "                                            save_path=save_path + subpath + '/plots/test_evolution_over_slices/',\n",
    "                                            network_idx = random.sample(range(sa_learner.config.num_samples['test']), k = min(k_networks, sa_learner.config.num_samples['test'])),\n",
    "                                            plot_actual_metrics = True)"
   ]
  }
 ],
 "metadata": {
  "kernelspec": {
   "display_name": "rrm",
   "language": "python",
   "name": "python3"
  },
  "language_info": {
   "codemirror_mode": {
    "name": "ipython",
    "version": 3
   },
   "file_extension": ".py",
   "mimetype": "text/x-python",
   "name": "python",
   "nbconvert_exporter": "python",
   "pygments_lexer": "ipython3",
   "version": "3.10.11"
  },
  "orig_nbformat": 4
 },
 "nbformat": 4,
 "nbformat_minor": 2
}
