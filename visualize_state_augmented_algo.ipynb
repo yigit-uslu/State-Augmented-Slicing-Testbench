{
 "cells": [
  {
   "cell_type": "markdown",
   "metadata": {},
   "source": [
    "# TESTING A PRE-TRAINED STATE-AUGMENTED MODEL\n",
    "Load a pre-trained state-augmented model, experiment config and channel data. Run the test phase and plot metrics."
   ]
  },
  {
   "cell_type": "code",
   "execution_count": 9,
   "metadata": {},
   "outputs": [],
   "source": [
    "import json\n",
    "import os\n",
    "import glob\n",
    "import torch\n",
    "import re\n",
    "import copy\n",
    "import random\n",
    "import tqdm\n",
    "from collections import defaultdict\n",
    "from matplotlib import pyplot as plt\n",
    "import seaborn as sns\n",
    "import time"
   ]
  },
  {
   "cell_type": "code",
   "execution_count": 10,
   "metadata": {},
   "outputs": [],
   "source": [
    "# Load one pre-trained model and experiment results\n",
    "save_path = 'visualization_results'\n",
    "# experiment_root_path = \"results/n_20_T_slices_{'train': 100, 'test': 500}_num_samples_{'train': 2, 'test': 1}/1700455656.290245 -- TEST VIOLATION RATES\"\n",
    "experiment_root_path = \"results/n_20_T_slices_{'train': 100, 'test': 500}_num_samples_{'train': 16, 'test': 4}/1700457654.2167933 -- TEST VIOLATION RATES\"\n",
    "\n",
    "\n",
    "save_path = f'{save_path}/{experiment_root_path}'\n",
    "\n",
    "experiment_name = re.search('results/(.+?)/', experiment_root_path).group(1)\n",
    "\n",
    "# Load train chkpt\n",
    "train_chkpt_root_path = f'{experiment_root_path}/train_chkpts/train_chkpt_'\n",
    "file_type = r'*.pt'\n",
    "files = glob.glob(train_chkpt_root_path + file_type)\n",
    "latest_train_chkpt_path = max(files, key=os.path.getctime)\n",
    "train_chkpt = torch.load(latest_train_chkpt_path)\n",
    "\n",
    "# Load model chkpt\n",
    "model_chkpt_root_path = f'{experiment_root_path}/train_chkpts/model_chkpt_'\n",
    "file_type = r'*.pt'\n",
    "files = glob.glob(model_chkpt_root_path + file_type)\n",
    "latest_model_chkpt_path = max(files, key=os.path.getctime)\n",
    "model_chkpt = torch.load(latest_model_chkpt_path)\n",
    "\n",
    "# Load all epoch results chkpt\n",
    "all_epoch_results_chkpt_root_path = f'{experiment_root_path}/train_chkpts/all_epoch_results_chkpt_'\n",
    "file_type = r'*.pt'\n",
    "files = glob.glob(all_epoch_results_chkpt_root_path + file_type)\n",
    "latest_all_epoch_results_chkpt_path = max(files, key=os.path.getctime)\n",
    "all_epoch_results_chkpt = torch.load(latest_all_epoch_results_chkpt_path)\n",
    "# with open(latest_all_epoch_results_chkpt_path, 'r') as outfile:\n",
    "#    all_epoch_results_chkpt = json.load(outfile)"
   ]
  },
  {
   "cell_type": "code",
   "execution_count": 11,
   "metadata": {},
   "outputs": [],
   "source": [
    "from core.model import MLP\n",
    "from core.Slice import Slice\n",
    "from core.data_gen import create_data\n",
    "from core.utils import make_test_configs, find_substring_index, seed_everything, make_experiment_name, create_network_configs,\\\n",
    "make_feature_extractor, make_constraint_fncs_and_lambda_samplers, make_eval_fnc, make_logger\n",
    "from core.StateAugmentation import StateAugmentedSlicingAlgorithm"
   ]
  },
  {
   "cell_type": "code",
   "execution_count": 12,
   "metadata": {},
   "outputs": [],
   "source": [
    "# How many more iterations do we want to run the pretrained model\n",
    "n_epochs_more = 1"
   ]
  },
  {
   "cell_type": "code",
   "execution_count": 14,
   "metadata": {},
   "outputs": [
    {
     "name": "stdout",
     "output_type": "stream",
     "text": [
      "Subpath:  \n",
      "Device:  cuda:0\n",
      "Model state dicts loaded...\n",
      "All epoch results loaded...\n",
      "The state-augmented model has been trained for 20 epochs.\n"
     ]
    }
   ],
   "source": [
    "args = copy.deepcopy(train_chkpt['config'])\n",
    "seed_everything(args.random_seed)\n",
    "\n",
    "# create a string indicating the main experiment (hyper)parameters\n",
    "experiment_name = make_experiment_name(args)\n",
    "args.save_dir = experiment_root_path\n",
    "\n",
    "args.channel_data_save_load_path = f'{args.root}/{args.save_dir}/channel_data'\n",
    "args.traffic_data_save_load_path = f'{args.root}/{args.save_dir}/traffic_data'\n",
    "    \n",
    "# Create more folders and save the parsed configuration\n",
    "os.makedirs(f'{save_path}', exist_ok=True)\n",
    "\n",
    "# os.makedirs(f'{args.root}/results/{args.save_dir}/plots', exist_ok=True)\n",
    "# os.makedirs(f'{args.root}/results/{args.save_dir}/train_chkpts', exist_ok=True)\n",
    "# os.makedirs(f'{args.channel_data_save_load_path}', exist_ok=True)\n",
    "# os.makedirs(f'{args.traffic_data_save_load_path}', exist_ok=True)\n",
    "# with open(f'{args.root}/results/{args.save_dir}/config.json', 'w') as f:\n",
    "#     json.dump(vars(args), f, indent = 6)\n",
    "\n",
    "# Create network configs to initialize wireless networks\n",
    "network_configs = create_network_configs(args)\n",
    "\n",
    "\n",
    "# Change the constraint specifications\n",
    "r_min_violation_rate = args.r_min_violation_rate # 0.05\n",
    "l_max_violation_rate = args.l_max_violation_rate # 0.05\n",
    "r_min = args.r_min\n",
    "l_max = args.l_max\n",
    "\n",
    "subpath = ''\n",
    "if not r_min_violation_rate == args.r_min_violation_rate:\n",
    "    subpath += f'_rate_violation_rate_{r_min_violation_rate}'\n",
    "if not l_max_violation_rate == args.l_max_violation_rate:\n",
    "    subpath += f'_latency_violation_rate_{l_max_violation_rate}'\n",
    "if not r_min == args.r_min:\n",
    "    subpath += f'_r_min_{r_min}'\n",
    "if not l_max == args.l_max:\n",
    "    subpath += f'_l_max_{l_max}'\n",
    "if not subpath == '':\n",
    "    subpath = '/' + subpath\n",
    "print('Subpath: ', subpath)\n",
    "\n",
    "args.r_min = r_min\n",
    "args.l_max = l_max\n",
    "args.r_min_violation_rate = r_min_violation_rate\n",
    "args.l_max_violation_rate = l_max_violation_rate\n",
    "\n",
    "\n",
    "# Create feature extractor, obj and constraint eval functions\n",
    "feature_extractor, n_features = make_feature_extractor(['slice-weight', 'slice-avg-data-rate'], args)\n",
    "obj = make_eval_fnc(eval_type = 'obj-mean-rate', eval_slices = [Slice.BE], args=args)\n",
    "\n",
    "constraints, lambda_samplers = make_constraint_fncs_and_lambda_samplers(args)\n",
    "\n",
    "args.num_features_list = [n_features + len(constraints)] + args.num_features_list[1:]\n",
    "\n",
    "# set the computation device and create the model using a GNN parameterization\n",
    "args.device = torch.device(args.device if torch.cuda.is_available() else 'cpu')\n",
    "print('Device: ', args.device)\n",
    "model = MLP(args.num_features_list, lambda_transform = args.lambda_transform, batch_norm = args.batch_norm).to(args.device)\n",
    "model.load_state_dict(model_chkpt['model_state_dict'])\n",
    "print('Model state dicts loaded...')\n",
    "\n",
    "# Log print statements to a logs.txt file\n",
    "loggers = [make_logger(f'{save_path}/logs.txt')]\n",
    "\n",
    "# Load all epoch results\n",
    "all_epoch_results = train_chkpt['all_epoch_results']\n",
    "print('All epoch results loaded...')\n",
    "print('The state-augmented model has been trained for {} epochs.'.format(len(all_epoch_results['train_state'])))\n",
    "\n",
    "sa_learner = StateAugmentedSlicingAlgorithm(model=model,\n",
    "                                            config=args,\n",
    "                                            network_configs=network_configs,\n",
    "                                            feature_extractor=feature_extractor,\n",
    "                                            loggers=loggers,\n",
    "                                            obj=obj,\n",
    "                                            constraints=constraints,\n",
    "                                            lambda_samplers = lambda_samplers,\n",
    "                                            all_epoch_results=all_epoch_results)"
   ]
  },
  {
   "cell_type": "code",
   "execution_count": 7,
   "metadata": {},
   "outputs": [
    {
     "name": "stdout",
     "output_type": "stream",
     "text": [
      "Model state dicts loaded...\n",
      "The state-augmented model has been trained for 20 epochs\n"
     ]
    }
   ],
   "source": [
    "# # Load model and instantiate state-augmented learner\n",
    "# args.device = torch.device(args.device if torch.cuda.is_available() else 'cpu')\n",
    "# model = GNN(args.num_features_list, args.P_max, dual_transform = args.dual_transform, batch_norm = args.batch_norm, dropout = args.dropout).to(args.device)\n",
    "# model.load_state_dict(model_chkpt['model_state_dict'])\n",
    "# print('Model state dicts loaded...')\n",
    "\n",
    "# loggers = []\n",
    "# plt_fncs = []\n",
    "\n",
    "# # Create the state-augmented learner \n",
    "# all_epoch_results = train_chkpt['all_epoch_results']\n",
    "# print('The state-augmented model has been trained for {} epochs'.format(len(all_epoch_results['train_metrics', 'primal'])))\n",
    "# # print(all_epoch_results['train_metrics', 'primal'][-1].mu.shape)\n",
    "# sa_learner = StateAugmentedLearner(model = model, config = args, train_dataloader = loader['train'], test_dataloader = loader['test'],\n",
    "#                                     loggers = loggers, baseline_rates = baseline_rates,\n",
    "#                                     all_epoch_results=all_epoch_results)\n",
    "\n",
    "# # sa_learner.plot_test_evolution_over_timesteps(test_metrics_over_time_list,\n",
    "# #                                                 save_path=save_path + '/plots/test_metrics_over_time/')\n",
    "\n",
    "# # sa_learner.plot_test_lambdas_over_timesteps(test_metrics_over_time_list,\n",
    "# #                                                 save_path=save_path + '/plots/test_lambdas_over_time/', graph_idx = range(min(10, args.num_samples['test'])))\n",
    "\n",
    "# # sa_learner.plot_test_evolution_over_epochs(test_metrics_list,\n",
    "# #                                                  save_path=save_path + '/plots/test_evolution/')\n",
    "# # sa_learner.plot_test_evolution_over_epochs([test_metrics for _ in test_configs],\n",
    "# #                                                  save_path=save_path + '/plots/test_evolution/')"
   ]
  },
  {
   "cell_type": "markdown",
   "metadata": {},
   "source": [
    "## Run Dual Estimation Procedure"
   ]
  },
  {
   "cell_type": "code",
   "execution_count": 8,
   "metadata": {},
   "outputs": [
    {
     "name": "stdout",
     "output_type": "stream",
     "text": [
      "dual clamp max: 5.0\n",
      "Running dual estimation...\n"
     ]
    },
    {
     "name": "stderr",
     "output_type": "stream",
     "text": [
      "  0%|          | 0/20 [00:00<?, ?it/s]"
     ]
    },
    {
     "name": "stdout",
     "output_type": "stream",
     "text": [
      "Dual multiplier estimation average L_2 error: 0.1254824846982956, \t average L_inf error: 0.12764227390289307 \t Max L_inf error: 1.282132863998413\n",
      "Dual multiplier estimation average L_2 error: 0.14240701496601105, \t average L_inf error: 0.14120090007781982 \t Max L_inf error: 1.8098121881484985\n",
      "Dual multiplier estimation average L_2 error: 0.0971844494342804, \t average L_inf error: 0.1400652974843979 \t Max L_inf error: 0.9900038838386536\n",
      "Dual multiplier estimation average L_2 error: 1.4831527471542358, \t average L_inf error: 0.2554645836353302 \t Max L_inf error: 8.810660362243652\n"
     ]
    },
    {
     "name": "stderr",
     "output_type": "stream",
     "text": [
      "  5%|▌         | 1/20 [01:31<29:01, 91.66s/it]"
     ]
    },
    {
     "name": "stdout",
     "output_type": "stream",
     "text": [
      "Dual multiplier estimation average L_2 error: 0.007408766075968742, \t average L_inf error: 0.018398426473140717 \t Max L_inf error: 0.35652732849121094\n",
      "Dual multiplier estimation average L_2 error: 0.027325714007019997, \t average L_inf error: 0.035557329654693604 \t Max L_inf error: 1.1513574123382568\n",
      "Dual multiplier estimation average L_2 error: 1.6090868711471558, \t average L_inf error: 0.17248016595840454 \t Max L_inf error: 10.137567520141602\n",
      "Dual multiplier estimation average L_2 error: 0.0008320491178892553, \t average L_inf error: 0.013460912741720676 \t Max L_inf error: 0.08930525183677673\n"
     ]
    },
    {
     "name": "stderr",
     "output_type": "stream",
     "text": [
      " 10%|█         | 2/20 [03:04<27:47, 92.62s/it]"
     ]
    },
    {
     "name": "stdout",
     "output_type": "stream",
     "text": [
      "Dual multiplier estimation average L_2 error: 0.0018692838493734598, \t average L_inf error: 0.013300465419888496 \t Max L_inf error: 0.2089378833770752\n",
      "Dual multiplier estimation average L_2 error: 1.7272400856018066, \t average L_inf error: 0.18648800253868103 \t Max L_inf error: 10.454057693481445\n",
      "Dual multiplier estimation average L_2 error: 0.0003274395130574703, \t average L_inf error: 0.009396985173225403 \t Max L_inf error: 0.057720720767974854\n",
      "Dual multiplier estimation average L_2 error: 0.001843215781264007, \t average L_inf error: 0.01708248257637024 \t Max L_inf error: 0.19945505261421204\n"
     ]
    },
    {
     "name": "stderr",
     "output_type": "stream",
     "text": [
      " 15%|█▌        | 3/20 [04:34<25:53, 91.40s/it]"
     ]
    },
    {
     "name": "stdout",
     "output_type": "stream",
     "text": [
      "Dual multiplier estimation average L_2 error: 0.02043176256120205, \t average L_inf error: 0.027930747717618942 \t Max L_inf error: 1.031515121459961\n",
      "Dual multiplier estimation average L_2 error: 0.005424560979008675, \t average L_inf error: 0.019548121839761734 \t Max L_inf error: 0.32815253734588623\n",
      "Dual multiplier estimation average L_2 error: 0.0027445373125374317, \t average L_inf error: 0.010898524895310402 \t Max L_inf error: 0.23647642135620117\n",
      "Dual multiplier estimation average L_2 error: 1.8529865741729736, \t average L_inf error: 0.17836742103099823 \t Max L_inf error: 10.888157844543457\n"
     ]
    },
    {
     "name": "stderr",
     "output_type": "stream",
     "text": [
      " 20%|██        | 4/20 [06:07<24:30, 91.89s/it]"
     ]
    },
    {
     "name": "stdout",
     "output_type": "stream",
     "text": [
      "Dual multiplier estimation average L_2 error: 1.8857669830322266, \t average L_inf error: 0.18107976019382477 \t Max L_inf error: 10.983942031860352\n",
      "Dual multiplier estimation average L_2 error: 0.05400209501385689, \t average L_inf error: 0.039690859615802765 \t Max L_inf error: 1.8395414352416992\n",
      "Dual multiplier estimation average L_2 error: 0.001019122893922031, \t average L_inf error: 0.011382393538951874 \t Max L_inf error: 0.1209772527217865\n",
      "Dual multiplier estimation average L_2 error: 0.00329765398055315, \t average L_inf error: 0.017220009118318558 \t Max L_inf error: 0.2804691791534424\n"
     ]
    },
    {
     "name": "stderr",
     "output_type": "stream",
     "text": [
      " 25%|██▌       | 5/20 [07:40<23:02, 92.17s/it]"
     ]
    },
    {
     "name": "stdout",
     "output_type": "stream",
     "text": [
      "Dual multiplier estimation average L_2 error: 1.9572467803955078, \t average L_inf error: 0.18920841813087463 \t Max L_inf error: 11.186336517333984\n",
      "Dual multiplier estimation average L_2 error: 0.03005116432905197, \t average L_inf error: 0.030928175896406174 \t Max L_inf error: 1.379136085510254\n",
      "Dual multiplier estimation average L_2 error: 0.0004935396136716008, \t average L_inf error: 0.011491728015244007 \t Max L_inf error: 0.07191887497901917\n",
      "Dual multiplier estimation average L_2 error: 0.0008469540625810623, \t average L_inf error: 0.009025581181049347 \t Max L_inf error: 0.15721642971038818\n"
     ]
    },
    {
     "name": "stderr",
     "output_type": "stream",
     "text": [
      " 30%|███       | 6/20 [09:13<21:37, 92.70s/it]"
     ]
    },
    {
     "name": "stdout",
     "output_type": "stream",
     "text": [
      "Dual multiplier estimation average L_2 error: 0.0010696535464376211, \t average L_inf error: 0.009847920387983322 \t Max L_inf error: 0.17075204849243164\n",
      "Dual multiplier estimation average L_2 error: 0.0007392448605969548, \t average L_inf error: 0.010055525228381157 \t Max L_inf error: 0.0901188850402832\n",
      "Dual multiplier estimation average L_2 error: 1.6213722229003906, \t average L_inf error: 0.16992703080177307 \t Max L_inf error: 10.182438850402832\n",
      "Dual multiplier estimation average L_2 error: 0.061439674347639084, \t average L_inf error: 0.04439553990960121 \t Max L_inf error: 1.9510383605957031\n"
     ]
    },
    {
     "name": "stderr",
     "output_type": "stream",
     "text": [
      " 35%|███▌      | 7/20 [10:47<20:08, 92.95s/it]"
     ]
    },
    {
     "name": "stdout",
     "output_type": "stream",
     "text": [
      "Dual multiplier estimation average L_2 error: 0.0013458299217745662, \t average L_inf error: 0.012148336507380009 \t Max L_inf error: 0.1284458041191101\n",
      "Dual multiplier estimation average L_2 error: 0.0020397354383021593, \t average L_inf error: 0.014306116849184036 \t Max L_inf error: 0.23998266458511353\n",
      "Dual multiplier estimation average L_2 error: 0.00017916958313435316, \t average L_inf error: 0.0063007427379488945 \t Max L_inf error: 0.054554253816604614\n",
      "Dual multiplier estimation average L_2 error: 1.6875531673431396, \t average L_inf error: 0.19671761989593506 \t Max L_inf error: 10.261881828308105\n"
     ]
    },
    {
     "name": "stderr",
     "output_type": "stream",
     "text": [
      " 40%|████      | 8/20 [12:19<18:31, 92.61s/it]"
     ]
    },
    {
     "name": "stdout",
     "output_type": "stream",
     "text": [
      "Dual multiplier estimation average L_2 error: 0.024666426703333855, \t average L_inf error: 0.03050922602415085 \t Max L_inf error: 1.2253022193908691\n",
      "Dual multiplier estimation average L_2 error: 0.00015552456898149103, \t average L_inf error: 0.0065774619579315186 \t Max L_inf error: 0.03909143805503845\n",
      "Dual multiplier estimation average L_2 error: 0.0006243117968551815, \t average L_inf error: 0.01017356850206852 \t Max L_inf error: 0.10829931497573853\n",
      "Dual multiplier estimation average L_2 error: 1.601938009262085, \t average L_inf error: 0.17205694317817688 \t Max L_inf error: 10.116808891296387\n"
     ]
    },
    {
     "name": "stderr",
     "output_type": "stream",
     "text": [
      " 45%|████▌     | 9/20 [13:53<17:02, 92.96s/it]"
     ]
    },
    {
     "name": "stdout",
     "output_type": "stream",
     "text": [
      "Dual multiplier estimation average L_2 error: 1.6921415328979492, \t average L_inf error: 0.17319577932357788 \t Max L_inf error: 10.404504776000977\n",
      "Dual multiplier estimation average L_2 error: 0.011388557031750679, \t average L_inf error: 0.01815848797559738 \t Max L_inf error: 0.830327033996582\n",
      "Dual multiplier estimation average L_2 error: 0.001801058417186141, \t average L_inf error: 0.013672737404704094 \t Max L_inf error: 0.2616211771965027\n",
      "Dual multiplier estimation average L_2 error: 0.0011016224743798375, \t average L_inf error: 0.009839353151619434 \t Max L_inf error: 0.16145628690719604\n"
     ]
    },
    {
     "name": "stderr",
     "output_type": "stream",
     "text": [
      " 50%|█████     | 10/20 [15:26<15:30, 93.03s/it]"
     ]
    },
    {
     "name": "stdout",
     "output_type": "stream",
     "text": [
      "Dual multiplier estimation average L_2 error: 0.012562492862343788, \t average L_inf error: 0.022939208894968033 \t Max L_inf error: 0.8649134635925293\n",
      "Dual multiplier estimation average L_2 error: 0.0001523675164207816, \t average L_inf error: 0.006898934952914715 \t Max L_inf error: 0.03448803722858429\n",
      "Dual multiplier estimation average L_2 error: 0.0019166633719578385, \t average L_inf error: 0.013255689293146133 \t Max L_inf error: 0.1414426565170288\n",
      "Dual multiplier estimation average L_2 error: 1.8967556953430176, \t average L_inf error: 0.1815667599439621 \t Max L_inf error: 11.014625549316406\n"
     ]
    },
    {
     "name": "stderr",
     "output_type": "stream",
     "text": [
      " 55%|█████▌    | 11/20 [16:59<13:58, 93.19s/it]"
     ]
    },
    {
     "name": "stdout",
     "output_type": "stream",
     "text": [
      "Dual multiplier estimation average L_2 error: 0.0006333388737402856, \t average L_inf error: 0.009245796129107475 \t Max L_inf error: 0.10845863819122314\n",
      "Dual multiplier estimation average L_2 error: 0.0012250487925484776, \t average L_inf error: 0.010008026845753193 \t Max L_inf error: 0.21844744682312012\n",
      "Dual multiplier estimation average L_2 error: 0.013629136607050896, \t average L_inf error: 0.02514820173382759 \t Max L_inf error: 0.9052176475524902\n",
      "Dual multiplier estimation average L_2 error: 1.9212487936019897, \t average L_inf error: 0.18296097218990326 \t Max L_inf error: 11.085926055908203\n"
     ]
    },
    {
     "name": "stderr",
     "output_type": "stream",
     "text": [
      " 60%|██████    | 12/20 [18:31<12:21, 92.74s/it]"
     ]
    },
    {
     "name": "stdout",
     "output_type": "stream",
     "text": [
      "Dual multiplier estimation average L_2 error: 0.023843122646212578, \t average L_inf error: 0.028681311756372452 \t Max L_inf error: 1.164492130279541\n",
      "Dual multiplier estimation average L_2 error: 1.9933953285217285, \t average L_inf error: 0.1846950799226761 \t Max L_inf error: 11.290491104125977\n",
      "Dual multiplier estimation average L_2 error: 0.0007791438256390393, \t average L_inf error: 0.011987227946519852 \t Max L_inf error: 0.07075047492980957\n",
      "Dual multiplier estimation average L_2 error: 0.00019009712559636682, \t average L_inf error: 0.008112268522381783 \t Max L_inf error: 0.03868985176086426\n"
     ]
    },
    {
     "name": "stderr",
     "output_type": "stream",
     "text": [
      " 65%|██████▌   | 13/20 [20:04<10:49, 92.83s/it]"
     ]
    },
    {
     "name": "stdout",
     "output_type": "stream",
     "text": [
      "Dual multiplier estimation average L_2 error: 0.0009538421873003244, \t average L_inf error: 0.010423352010548115 \t Max L_inf error: 0.14298880100250244\n",
      "Dual multiplier estimation average L_2 error: 0.0006564721115864813, \t average L_inf error: 0.011747542768716812 \t Max L_inf error: 0.10873597860336304\n",
      "Dual multiplier estimation average L_2 error: 1.9344778060913086, \t average L_inf error: 0.18109822273254395 \t Max L_inf error: 11.125123977661133\n",
      "Dual multiplier estimation average L_2 error: 0.03591170534491539, \t average L_inf error: 0.0346766822040081 \t Max L_inf error: 1.4951934814453125\n"
     ]
    },
    {
     "name": "stderr",
     "output_type": "stream",
     "text": [
      " 70%|███████   | 14/20 [21:35<09:13, 92.33s/it]"
     ]
    },
    {
     "name": "stdout",
     "output_type": "stream",
     "text": [
      "Dual multiplier estimation average L_2 error: 0.00013099063653498888, \t average L_inf error: 0.005313057452440262 \t Max L_inf error: 0.038043200969696045\n",
      "Dual multiplier estimation average L_2 error: 1.6640582084655762, \t average L_inf error: 0.1738395392894745 \t Max L_inf error: 10.31583309173584\n",
      "Dual multiplier estimation average L_2 error: 0.014155169017612934, \t average L_inf error: 0.033147770911455154 \t Max L_inf error: 0.8225283622741699\n",
      "Dual multiplier estimation average L_2 error: 0.0001851656415965408, \t average L_inf error: 0.006365290377289057 \t Max L_inf error: 0.07642167806625366\n"
     ]
    },
    {
     "name": "stderr",
     "output_type": "stream",
     "text": [
      " 75%|███████▌  | 15/20 [23:06<07:38, 91.73s/it]"
     ]
    },
    {
     "name": "stdout",
     "output_type": "stream",
     "text": [
      "Dual multiplier estimation average L_2 error: 0.00021481740986928344, \t average L_inf error: 0.007526956032961607 \t Max L_inf error: 0.06463107466697693\n",
      "Dual multiplier estimation average L_2 error: 1.7846767902374268, \t average L_inf error: 0.1952376663684845 \t Max L_inf error: 10.615490913391113\n",
      "Dual multiplier estimation average L_2 error: 0.0015807717572897673, \t average L_inf error: 0.01333482377231121 \t Max L_inf error: 0.2231534719467163\n",
      "Dual multiplier estimation average L_2 error: 0.000738324539270252, \t average L_inf error: 0.008913797326385975 \t Max L_inf error: 0.1422175168991089\n"
     ]
    },
    {
     "name": "stderr",
     "output_type": "stream",
     "text": [
      " 80%|████████  | 16/20 [24:36<06:04, 91.25s/it]"
     ]
    },
    {
     "name": "stdout",
     "output_type": "stream",
     "text": [
      "Dual multiplier estimation average L_2 error: 0.0006807114696130157, \t average L_inf error: 0.010575979016721249 \t Max L_inf error: 0.10624295473098755\n",
      "Dual multiplier estimation average L_2 error: 1.7005841732025146, \t average L_inf error: 0.1882413774728775 \t Max L_inf error: 10.37595272064209\n",
      "Dual multiplier estimation average L_2 error: 0.0004489910788834095, \t average L_inf error: 0.008025070652365685 \t Max L_inf error: 0.0920330137014389\n",
      "Dual multiplier estimation average L_2 error: 0.005481932312250137, \t average L_inf error: 0.017758462578058243 \t Max L_inf error: 0.3497018814086914\n"
     ]
    },
    {
     "name": "stderr",
     "output_type": "stream",
     "text": [
      " 85%|████████▌ | 17/20 [26:07<04:33, 91.14s/it]"
     ]
    },
    {
     "name": "stdout",
     "output_type": "stream",
     "text": [
      "Dual multiplier estimation average L_2 error: 0.00020709412638098001, \t average L_inf error: 0.00703610572963953 \t Max L_inf error: 0.0467037558555603\n",
      "Dual multiplier estimation average L_2 error: 0.00040744541911408305, \t average L_inf error: 0.00856873206794262 \t Max L_inf error: 0.06737709045410156\n",
      "Dual multiplier estimation average L_2 error: 0.005859652534127235, \t average L_inf error: 0.01779920607805252 \t Max L_inf error: 0.5962557792663574\n",
      "Dual multiplier estimation average L_2 error: 1.7485835552215576, \t average L_inf error: 0.1760234385728836 \t Max L_inf error: 10.576472282409668\n"
     ]
    },
    {
     "name": "stderr",
     "output_type": "stream",
     "text": [
      " 90%|█████████ | 18/20 [27:37<03:01, 90.93s/it]"
     ]
    },
    {
     "name": "stdout",
     "output_type": "stream",
     "text": [
      "Dual multiplier estimation average L_2 error: 0.00046671449672430754, \t average L_inf error: 0.008578486740589142 \t Max L_inf error: 0.07772666215896606\n",
      "Dual multiplier estimation average L_2 error: 1.6435378789901733, \t average L_inf error: 0.16762258112430573 \t Max L_inf error: 10.253920555114746\n",
      "Dual multiplier estimation average L_2 error: 0.01020018756389618, \t average L_inf error: 0.025472771376371384 \t Max L_inf error: 0.7667198181152344\n",
      "Dual multiplier estimation average L_2 error: 0.0004916150937788188, \t average L_inf error: 0.00992328580468893 \t Max L_inf error: 0.06591251492500305\n"
     ]
    },
    {
     "name": "stderr",
     "output_type": "stream",
     "text": [
      " 95%|█████████▌| 19/20 [29:10<01:31, 91.51s/it]"
     ]
    },
    {
     "name": "stdout",
     "output_type": "stream",
     "text": [
      "Dual multiplier estimation average L_2 error: 0.005783321801573038, \t average L_inf error: 0.017967600375413895 \t Max L_inf error: 0.5530295372009277\n",
      "Dual multiplier estimation average L_2 error: 0.0006279753870330751, \t average L_inf error: 0.009594494476914406 \t Max L_inf error: 0.10690134763717651\n",
      "Dual multiplier estimation average L_2 error: 0.002095509087666869, \t average L_inf error: 0.013196245767176151 \t Max L_inf error: 0.280120313167572\n",
      "Dual multiplier estimation average L_2 error: 1.8367643356323242, \t average L_inf error: 0.1766788512468338 \t Max L_inf error: 10.840582847595215\n"
     ]
    },
    {
     "name": "stderr",
     "output_type": "stream",
     "text": [
      "100%|██████████| 20/20 [30:42<00:00, 92.12s/it]"
     ]
    },
    {
     "name": "stdout",
     "output_type": "stream",
     "text": [
      "Dual estimation complete...\n"
     ]
    },
    {
     "name": "stderr",
     "output_type": "stream",
     "text": [
      "\n"
     ]
    }
   ],
   "source": [
    "n_iters = 20\n",
    "n_trajectories = 10\n",
    "T_dual_optim = 2000 # ergodicity\n",
    "lr_dual_optim = 0.05\n",
    "alpha = 0.9\n",
    "alpha_step = 0.2 # None\n",
    "alpha_grow_period = 5 # None\n",
    "T_0_dual_optim = 5 \n",
    "mu_avg_warmup_t_frac = 0.5\n",
    "\n",
    "sa_learner.config.dual_train_dist_update_n_iters = n_iters\n",
    "sa_learner.config.dual_train_dist_update_n_trajectories = n_trajectories\n",
    "sa_learner.config.T_dual_optim = T_dual_optim\n",
    "sa_learner.config.lr_dual_train_dist = alpha\n",
    "sa_learner.config.lr_dual['train'] = lr_dual_optim # lr_dual_optim\n",
    "sa_learner.config.dual_clamp_max = sa_learner.config.dual_train_dist_mean + sa_learner.config.dual_train_dist_sigma\n",
    "sa_learner.config.T['train'] = T_0_dual_optim # update window in dual dynamics\n",
    "sa_learner.config.mu_avg_warmup_t_frac = mu_avg_warmup_t_frac\n",
    "print('dual clamp max:', sa_learner.config.dual_clamp_max)\n",
    "\n",
    "dual_optim_config = f'T_dual_optim_{sa_learner.config.T_dual_optim}_n_iters_{sa_learner.config.dual_train_dist_update_n_iters}_n_trajectories_{sa_learner.config.dual_train_dist_update_n_trajectories}_lr_dual_optim_{lr_dual_optim}/'\n",
    "\n",
    "print('Running dual estimation...')\n",
    "sa_learner.all_epoch_results['train', 'dual_optim_estimation'] = []\n",
    "sa_learner.all_epoch_results['train', 'dual_optim_all_mu_over_time'] = []\n",
    "sa_learner.all_epoch_results['train', 'dual_optim_all_constraint_slacks_over_time'] = []\n",
    "sa_learner.all_epoch_results['train', 'dual_optim_estimation_error'] = defaultdict(list)\n",
    "all_dual_optim_estimation_errors = defaultdict(list)\n",
    "\n",
    "# sa_learner.dual_optim_state = sa_learner.dual_optim_state._replace(mu = torch.zeros_like(sa_learner.dual_optim_state.mu))\n",
    "for iter in tqdm.tqdm(range(sa_learner.config.dual_train_dist_update_n_iters)):\n",
    "    # tune the learning rate\n",
    "    if alpha_grow_period is not None and alpha_step is not None and (iter + 1) % alpha_grow_period == 0:\n",
    "        alpha += alpha_step\n",
    "        alpha = max(0, min(1, alpha))\n",
    "\n",
    "        sa_learner.config.lr_dual_train_dist = alpha\n",
    "\n",
    "    sa_learner.dual_optim_state, dual_optim_err = sa_learner.dual_step(force_dual_step = True, compute_estimation_error = True) # estimate optimal dual multipliers\n",
    "    if sa_learner.dual_optim_state.mu_over_time is None:\n",
    "        break\n",
    "\n",
    "    for key,value in dual_optim_err.items():\n",
    "        all_dual_optim_estimation_errors[key].append(value)\n",
    "    \n",
    "    sa_learner.all_epoch_results['train', 'dual_optim_estimation'].append(sa_learner.dual_optim_state.mu.detach().cpu().numpy())\n",
    "\n",
    "    # Store all constraint slacks and dual multipliers across different realizations\n",
    "    dual_optim_all_mu_over_time = sa_learner.dual_optim_state.mu_over_time.reshape(sa_learner.config.dual_train_dist_update_n_trajectories, -1, *sa_learner.dual_optim_state.mu_over_time.shape[1:])\n",
    "    dual_optim_all_constraint_slacks_over_time = sa_learner.dual_optim_state.constraints_over_time.reshape(sa_learner.config.dual_train_dist_update_n_trajectories, -1, *sa_learner.dual_optim_state.constraints_over_time.shape[1:])\n",
    "    sa_learner.all_epoch_results['train', 'dual_optim_all_mu_over_time'].append(dual_optim_all_mu_over_time)\n",
    "    sa_learner.all_epoch_results['train', 'dual_optim_all_constraint_slacks_over_time'].append(dual_optim_all_constraint_slacks_over_time)\n",
    "\n",
    "sa_learner.all_epoch_results['train', 'dual_optim_estimation_error'] = all_dual_optim_estimation_errors\n",
    "print('Dual estimation complete...')"
   ]
  },
  {
   "cell_type": "code",
   "execution_count": 9,
   "metadata": {},
   "outputs": [],
   "source": [
    "import numpy as np\n",
    "def threshold_multipliers(lambdas, thresh_low = 0.0, thresh_high = None):\n",
    "\n",
    "    n_graphs, n, n_mixtures = lambdas.shape\n",
    "    if thresh_high is None:\n",
    "        temp_graph_idx, temp_client_idx = np.where(lambdas[:, :, 0] >= thresh_low)\n",
    "    else:\n",
    "        temp_graph_idx, temp_client_idx = np.where((lambdas[:, :, 0] >= thresh_low) * (lambdas[:, :, 0] <= thresh_high))\n",
    "\n",
    "    graph_idx = np.unique(temp_graph_idx)\n",
    "    client_idx = [[] for _ in range(len(graph_idx))]\n",
    "    for idx, graph in enumerate(graph_idx):\n",
    "        client_idx[idx] = temp_client_idx[np.where(temp_graph_idx == graph_idx[idx])].tolist()\n",
    "\n",
    "    return graph_idx, client_idx"
   ]
  },
  {
   "cell_type": "code",
   "execution_count": 45,
   "metadata": {},
   "outputs": [
    {
     "name": "stdout",
     "output_type": "stream",
     "text": [
      "Plot networks # [ 37  59  79 126 167 198 244]\n",
      "Plot clients #  [[1, 3, 4], [0, 1, 2, 3, 4], [1, 2], [2], [0, 4], [0, 1, 2, 3, 4], [3]]\n"
     ]
    }
   ],
   "source": [
    "graph_idx, client_idx = threshold_multipliers(sa_learner.all_epoch_results['train', 'dual_optim_estimation'][-1], thresh_low = 0.6)\n",
    "print('Plot networks #', graph_idx)\n",
    "print('Plot clients # ', client_idx)"
   ]
  },
  {
   "cell_type": "markdown",
   "metadata": {},
   "source": [
    "## Plot dual optimization metrics"
   ]
  },
  {
   "cell_type": "code",
   "execution_count": 19,
   "metadata": {},
   "outputs": [],
   "source": [
    "def unique(list1):\n",
    "    # insert the list to the set\n",
    "    list_set = set(list1)\n",
    "    # convert the set to the list\n",
    "    unique_list = (list(list_set))\n",
    "    return unique_list\n",
    "\n",
    "\n",
    "# Plot everything about dual optimization step\n",
    "if sa_learner.dual_optim_state.mu_over_time is not None:\n",
    "    # sa_learner.plot_train_dual_optim_evolution_over_timesteps(sa_learner.dual_optim_state, save_path=save_path + '/plots/train_dual_optim_evolution/', graph_idx = graph_idx)\n",
    "    sa_learner.plot_train_dual_optim_estimation_error_evolution_over_dual_iters(sa_learner.all_epoch_results['train', 'dual_optim_estimation_error'],\n",
    "                                                                            save_path = save_path + f'/plots/train_dual_optim_estimation_error_evolution_over_dual_iters/{dual_optim_config}')\n",
    "    sa_learner.plot_train_dual_optim_hist(sa_learner.dual_optim_state,\n",
    "                                            save_path = save_path + f'/plots/train_dual_optim_hist/{dual_optim_config}')\n",
    "    sa_learner.plot_train_dual_optim_estimation_evolution_over_dual_iters(sa_learner.all_epoch_results['train', 'dual_optim_estimation'],\n",
    "                                                                            save_path = save_path + f'/plots/train_dual_optim_estimation_evolution_over_dual_iters/{dual_optim_config}',\n",
    "                                                                            graph_idx = graph_idx,\n",
    "                                                                            client_idx = client_idx)\n",
    "\n",
    "    dual_optim_plot_subiters = unique([0,\n",
    "                                max(0, len(sa_learner.all_epoch_results['train', 'dual_optim_all_mu_over_time']) // 4 - 1),\n",
    "                                max(0, len(sa_learner.all_epoch_results['train', 'dual_optim_all_mu_over_time']) // 2 - 1),\n",
    "                                max(0, len(sa_learner.all_epoch_results['train', 'dual_optim_all_mu_over_time'])-1)]\n",
    "                                ) # first and last dual optim subiters\n",
    "    for subiter in dual_optim_plot_subiters:\n",
    "        sa_learner.plot_train_dual_optim_estimation_evolution_over_timesteps(sa_learner.all_epoch_results['train', 'dual_optim_all_mu_over_time'][subiter],\n",
    "                                                                                sa_learner.all_epoch_results['train', 'dual_optim_all_constraint_slacks_over_time'][subiter],\n",
    "                                                                                save_path=save_path + f'/plots/train_dual_optim_estimation_evolution_over_timesteps/{dual_optim_config}',\n",
    "                                                                                dual_iter=subiter,\n",
    "                                                                                graph_idx = graph_idx,\n",
    "                                                                                client_idx = client_idx)"
   ]
  },
  {
   "cell_type": "code",
   "execution_count": 14,
   "metadata": {},
   "outputs": [
    {
     "name": "stdout",
     "output_type": "stream",
     "text": [
      "Number of diverging optimal multipliers:  4\n"
     ]
    }
   ],
   "source": [
    "# Postprocess optimal multiplier estimates\n",
    "dual_estimation_chkpt_save_path = save_path + f'/dual_estimation_chkpt/{dual_optim_config}'\n",
    "os.makedirs(dual_estimation_chkpt_save_path, exist_ok=True)\n",
    "\n",
    "\n",
    "optimal_lambdas_orig = np.copy(sa_learner.all_epoch_results['train', 'dual_optim_estimation'][-1])\n",
    "graph_idx, client_idx = threshold_multipliers(optimal_lambdas_orig, thresh_low = sa_learner.config.dual_clamp_max)\n",
    "\n",
    "optimal_lambdas = optimal_lambdas_orig\n",
    "for gidx in graph_idx:\n",
    "    for cidx in client_idx:\n",
    "        optimal_lambdas[gidx, cidx] = np.nan \n",
    "\n",
    "print('Number of diverging optimal multipliers: ', np.isnan(optimal_lambdas).sum())\n",
    "\n",
    "# save optimal lambdas for dual regression\n",
    "with open(f'{dual_estimation_chkpt_save_path}dual_estimates.npy', 'wb') as f:\n",
    "    np.save(f, optimal_lambdas)"
   ]
  },
  {
   "cell_type": "markdown",
   "metadata": {},
   "source": [
    "## Train a DualRegressor\n",
    "We will train a dualRegressor. Before that, let's visualize the optimal multipliers vs. SINR."
   ]
  },
  {
   "cell_type": "code",
   "execution_count": 15,
   "metadata": {},
   "outputs": [],
   "source": [
    "# Load optimal multipliers\n",
    "dual_estimation_chkpt_load_path = dual_estimation_chkpt_save_path\n",
    "with open(f'{dual_estimation_chkpt_load_path}dual_estimates.npy', 'rb') as f:\n",
    "    optimal_lambdas = np.load(f)"
   ]
  },
  {
   "cell_type": "code",
   "execution_count": 43,
   "metadata": {},
   "outputs": [],
   "source": [
    "from utils import calc_rates\n",
    "\n",
    "def get_log_SINR_features(sa_learner):\n",
    "    all_log_sinr = torch.zeros(sa_learner.config.num_samples['train'], sa_learner.config.n, max(sa_learner.config.T['train'], sa_learner.config.T['test']), dtype=torch.float32, device=sa_learner.config.device)\n",
    "    hl_log_sinr = torch.zeros_like(all_log_sinr[:, :, 0])\n",
    "    for batch_idx, data in enumerate(sa_learner.train_dataloader):\n",
    "        sample_idx = data[1]\n",
    "        data = data[0].to(sa_learner.config.device)\n",
    "\n",
    "        y, edge_index_l, edge_weight_l, edge_index, \\\n",
    "        edge_weight, a, a_l, transmitters_index, num_graphs = \\\n",
    "            data.y, data.edge_index_l, data.edge_weight_l, data.edge_index, data.edge_weight, \\\n",
    "            data.weighted_adjacency, data.weighted_adjacency_l, \\\n",
    "            data.transmitters_index, data.num_graphs   \n",
    "\n",
    "        num_graphs = data.num_graphs\n",
    "        n = data.transmitters_index.numel() // num_graphs\n",
    "        T = len(edge_index)\n",
    "\n",
    "        log_sinr_over_time = []\n",
    "        for t in range(T):\n",
    "\n",
    "            # Compute SINR levels under full power transmission scenario\n",
    "            p = torch.ones(num_graphs * n).view(-1).to(sa_learner.config.device)\n",
    "            gamma = torch.ones(num_graphs * n, 1).to(sa_learner.config.device)\n",
    "            log_sinr = calc_rates(p, gamma, a[:, :, :, t], sa_learner.config.noise_var).view(-1, n)\n",
    "            log_sinr_over_time.append(log_sinr)\n",
    "\n",
    "        log_sinr_over_time = torch.stack(log_sinr_over_time, dim = -1)\n",
    "        all_log_sinr[sample_idx] = log_sinr_over_time.clone()\n",
    "        hl_log_sinr[sample_idx] = calc_rates(p, gamma, a_l, sa_learner.config.noise_var).view(-1, n)\n",
    "        \n",
    "\n",
    "    return all_log_sinr.detach().cpu().numpy(), hl_log_sinr.unsqueeze(-1).detach().cpu().numpy()\n",
    "\n",
    "\n",
    "# plt.rcParams.update({'font.size': 8})\n",
    "plt.rcParams['patch.edgecolor'] = 'none'\n",
    "# plt.rcParams['figure.figsize'] = (18, 6)\n",
    "FIG_ROWSIZE = 6\n",
    "FIG_COLSIZE = 6\n",
    "FIG_FONTSIZE = 8\n",
    "\n",
    "sns.set_style('darkgrid')\n",
    "plt.rcParams.update({'font.size': 14})\n",
    "\n",
    "def scatter_plot_dual_multipliers_sinr_features(lambdas, sinr_features, **kwargs):\n",
    "    fig_rowSize = kwargs.get('fig_rowSize', FIG_ROWSIZE)\n",
    "    fig_colSize = kwargs.get('fig_colSize', FIG_COLSIZE)\n",
    "    fig_fontSize = kwargs.get('fig_fontSize', FIG_FONTSIZE)\n",
    "    fig_title = kwargs.get('title', None)\n",
    "\n",
    "    for dim in range(sinr_features.ndim):\n",
    "        if not lambdas.shape[dim] == sinr_features.shape[dim]:\n",
    "            lambdas = np.repeat(lambdas, axis = dim, repeats=sinr_features.shape[dim] // lambdas.shape[dim])\n",
    "\n",
    "    assert lambdas.shape == sinr_features.shape\n",
    "    \n",
    "    sinr_features = sinr_features.reshape(-1)\n",
    "    lambdas = lambdas.reshape(-1)\n",
    "\n",
    "    fig, axs = plt.subplots(1, 1, figsize = (fig_colSize, fig_rowSize))\n",
    "    axs.scatter(x = lambdas, y = sinr_features)\n",
    "    axs.set_xlabel(r'$\\hat{\\lambda}^\\star$')\n",
    "    axs.set_ylabel(r'SINR')\n",
    "    axs.grid(True)\n",
    "\n",
    "    if fig_title is None:\n",
    "        fig.suptitle('Optimal dual multipliers vs SINR features')\n",
    "    else:\n",
    "        fig.suptitle(fig_title)\n",
    "    fig.tight_layout()\n",
    "    plt.show()\n",
    "    \n",
    "    # # Scatter plot dual multipliers vs sinr features\n",
    "    # x = mu_label_inv_transformed_all.view(-1).detach().cpu().numpy()\n",
    "    # y = sinr_all.mean(-1).view(-1).detach().cpu().numpy()\n",
    "    # y_err = sinr_all.std(dim = -1).view(-1).detach().cpu().numpy()\n",
    "    # axs[2].scatter(x = x, y = y)\n",
    "    # axs[2].errorbar(x = x, y = y, yerr = y_err, fmt = \"o\")\n",
    "    # axs[2].set_xlabel(r'$\\hat{\\lambda}^\\star$')\n",
    "    # axs[2].set_ylabel(r'SINR')\n",
    "    # axs[2].grid(True)\n",
    "\n",
    "    # fig.suptitle('Dual-Regressor scatter plot')\n",
    "    # fig.tight_layout()"
   ]
  },
  {
   "cell_type": "code",
   "execution_count": 44,
   "metadata": {},
   "outputs": [
    {
     "name": "stdout",
     "output_type": "stream",
     "text": [
      "optimal_lambdas.shape:  (256, 6, 1)\n",
      "all log SINR features.shape:  (256, 6, 1000)\n",
      "hl log SINR features.shape:  (256, 6, 1)\n"
     ]
    },
    {
     "data": {
      "image/png": "[encoded data removed]",
      "text/plain": [
       "<Figure size 600x600 with 1 Axes>"
      ]
     },
     "metadata": {},
     "output_type": "display_data"
    },
    {
     "data": {
      "image/png": "[encoded data removed]",
      "text/plain": [
       "<Figure size 600x600 with 1 Axes>"
      ]
     },
     "metadata": {},
     "output_type": "display_data"
    },
    {
     "data": {
      "image/png": "[encoded data removed]",
      "text/plain": [
       "<Figure size 600x600 with 1 Axes>"
      ]
     },
     "metadata": {},
     "output_type": "display_data"
    }
   ],
   "source": [
    "all_log_sinr_features, hl_log_sinr_features = get_log_SINR_features(sa_learner=sa_learner)\n",
    "print('optimal_lambdas.shape: ', optimal_lambdas.shape)\n",
    "print('all log SINR features.shape: ', all_log_sinr_features.shape)\n",
    "print('hl log SINR features.shape: ', hl_log_sinr_features.shape)\n",
    "scatter_plot_dual_multipliers_sinr_features(lambdas= optimal_lambdas, sinr_features=all_log_sinr_features, title = 'Optimal dual multipliers vs SINR(t) features')\n",
    "scatter_plot_dual_multipliers_sinr_features(lambdas= optimal_lambdas, sinr_features=all_log_sinr_features.mean(-1, keepdims=True), title = 'Optimal dual multipliers vs avg. SINR features')\n",
    "scatter_plot_dual_multipliers_sinr_features(lambdas= optimal_lambdas, sinr_features=hl_log_sinr_features, title = 'Optimal dual multipliers vs long-term SINR features')\n"
   ]
  },
  {
   "cell_type": "markdown",
   "metadata": {},
   "source": [
    "## Run Test Phase"
   ]
  },
  {
   "cell_type": "code",
   "execution_count": 15,
   "metadata": {},
   "outputs": [],
   "source": [
    "# Make test configs\n",
    "test_configs = []  \n",
    "\n",
    "test_config = copy.deepcopy(args)\n",
    "test_config.name = 'proportional-slicing'\n",
    "test_config.slicing_strategy = 'proportional'\n",
    "# test_config.constraint_rate_violation_rate = constraint_rate_violation_rate\n",
    "# test_config.test_on_train_data = True\n",
    "# test_config.dual_test_init_strategy = 'zeros'\n",
    "test_configs.append(test_config)\n",
    "\n",
    "test_config = copy.deepcopy(args)\n",
    "test_config.name = 'uniform-slicing'\n",
    "test_config.slicing_strategy = 'uniform'\n",
    "# test_config.constraint_rate_violation_rate = constraint_rate_violation_rate\n",
    "test_configs.append(test_config)\n",
    "\n",
    "test_config = copy.deepcopy(args)\n",
    "test_config.name = 'state-augmented-slicing'\n",
    "test_config.slicing_strategy = 'state-augmented'\n",
    "# test_config.test_on_train_data = True\n",
    "test_config.dual_test_init_strategy = 'zeros'\n",
    "# test_config.constraint_rate_violation_rate = constraint_rate_violation_rate\n",
    "test_configs.append(test_config)"
   ]
  },
  {
   "cell_type": "code",
   "execution_count": 16,
   "metadata": {},
   "outputs": [
    {
     "name": "stdout",
     "output_type": "stream",
     "text": [
      "Testing sa_learner...\n",
      "Testing proportional-slicing\n"
     ]
    },
    {
     "name": "stderr",
     "output_type": "stream",
     "text": [
      "100%|██████████| 500/500 [02:37<00:00,  3.18it/s]\n"
     ]
    },
    {
     "name": "stdout",
     "output_type": "stream",
     "text": [
      "Testing uniform-slicing\n"
     ]
    },
    {
     "name": "stderr",
     "output_type": "stream",
     "text": [
      "100%|██████████| 500/500 [02:42<00:00,  3.08it/s]\n"
     ]
    },
    {
     "name": "stdout",
     "output_type": "stream",
     "text": [
      "Testing state-augmented-slicing\n"
     ]
    },
    {
     "name": "stderr",
     "output_type": "stream",
     "text": [
      "100%|██████████| 500/500 [02:46<00:00,  3.00it/s]\n"
     ]
    }
   ],
   "source": [
    "print('Testing sa_learner...')\n",
    "test_metrics_list = []\n",
    "test_metrics_over_time_list = []\n",
    "for test_config in test_configs:\n",
    "    # if test_config.dual_test_init_strategy == 'mean-regression':\n",
    "    #     test_config.name = 'mean_init'\n",
    "    # if test_config.dual_test_init_strategy == 'optimal-regression':\n",
    "    #     test_config.name = 'optimal_init'\n",
    "    # if test_config.dual_test_init_strategy == 'zeros':\n",
    "    #     test_config.name = 'zeros_init'\n",
    "    print(f'Testing {test_config.name}')\n",
    "    test_metrics = sa_learner.test(epoch=sa_learner.all_epoch_results['test_state', test_config.name][-1].epoch + 1, test_config=test_config) # test metric\n",
    "    test_metrics_list.append([test_metrics])\n",
    "    test_metrics_over_time_list.append(test_metrics.metrics_over_slices) # append test metrics over time"
   ]
  },
  {
   "cell_type": "markdown",
   "metadata": {},
   "source": [
    "## Plot test metrics"
   ]
  },
  {
   "cell_type": "code",
   "execution_count": 17,
   "metadata": {},
   "outputs": [
    {
     "name": "stdout",
     "output_type": "stream",
     "text": [
      "Plotting test evolution over epochs...\n",
      "Plotting test evolution over timesteps...\n"
     ]
    },
    {
     "data": {
      "text/plain": [
       "<Figure size 640x480 with 0 Axes>"
      ]
     },
     "metadata": {},
     "output_type": "display_data"
    }
   ],
   "source": [
    "print('Plotting test evolution over epochs...')\n",
    "sa_learner.plot_test_evolution_over_epochs(test_metrics_list,\n",
    "                                        test_config_names=[_.name for _ in test_configs],\n",
    "                                        save_path=save_path + subpath + '/plots/test_evolution/',\n",
    "                                        plot_actual_metrics = True)\n",
    "            \n",
    "k_networks = sa_learner.config.num_samples['test']\n",
    "print('Plotting test evolution over timesteps...')\n",
    "sa_learner.plot_test_evolution_over_slices(test_metrics_list,\n",
    "                                            test_config_names = [_.name for _ in test_configs],\n",
    "                                            save_path=save_path + subpath + '/plots/test_evolution_over_slices/',\n",
    "                                            network_idx = random.sample(range(sa_learner.config.num_samples['test']), k = min(k_networks, sa_learner.config.num_samples['test'])),\n",
    "                                            plot_actual_metrics = True)"
   ]
  }
 ],
 "metadata": {
  "kernelspec": {
   "display_name": "rrm",
   "language": "python",
   "name": "python3"
  },
  "language_info": {
   "codemirror_mode": {
    "name": "ipython",
    "version": 3
   },
   "file_extension": ".py",
   "mimetype": "text/x-python",
   "name": "python",
   "nbconvert_exporter": "python",
   "pygments_lexer": "ipython3",
   "version": "3.10.11"
  },
  "orig_nbformat": 4
 },
 "nbformat": 4,
 "nbformat_minor": 2
}
